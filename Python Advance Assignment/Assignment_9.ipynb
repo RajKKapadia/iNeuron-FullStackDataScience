{
 "cells": [
  {
   "cell_type": "markdown",
   "metadata": {},
   "source": [
    "# Python Advance Assignment\n",
    "### Assignment - 9"
   ]
  },
  {
   "cell_type": "markdown",
   "metadata": {},
   "source": [
    "[1] In Python 3.X, what are the names and functions of string object types?"
   ]
  },
  {
   "cell_type": "markdown",
   "metadata": {},
   "source": [
    "`capitalize( )`\n",
    "Return a copy of the string with only its first character capitalized. For 8-bit strings, this method is locale-dependent.\n",
    "\n",
    "`center(\twidth[, fillchar])`\n",
    "Return centered in a string of length width. Padding is done using the specified fillchar (default is a space). Changed in version 2.4: Support for the fillchar argument. \n",
    "\n",
    "`count(\tsub[, start[, end]])`\n",
    "Return the number of occurrences of substring sub in string S[start:end]. Optional arguments start and end are interpreted as in slice notation.\n",
    "\n",
    "`decode(\t[encoding[, errors]])`\n",
    "Decodes the string using the codec registered for encoding. encoding defaults to the default string encoding. errors may be given to set a different error handling scheme. The default is 'strict', meaning that encoding errors raise UnicodeError. Other possible values are 'ignore', 'replace' and any other name registered via codecs.register_error, see section 4.8.1. New in version 2.2. Changed in version 2.3: Support for other error handling schemes added.\n",
    "\n",
    "`encode(\t[encoding[,errors]])`\n",
    "Return an encoded version of the string. Default encoding is the current default string encoding. errors may be given to set a different error handling scheme. The default for errors is 'strict', meaning that encoding errors raise a UnicodeError. Other possible values are 'ignore', 'replace', 'xmlcharrefreplace', 'backslashreplace' and any other name registered via codecs.register_error, see section 4.8.1. For a list of possible encodings, see section 4.8.3. New in version 2.0. Changed in version 2.3: Support for 'xmlcharrefreplace' and 'backslashreplace' and other error handling schemes added.\n",
    "\n",
    "`endswith(\tsuffix[, start[, end]])`\n",
    "Return True if the string ends with the specified suffix, otherwise return False. suffix can also be a tuple of suffixes to look for. With optional start, test beginning at that position. With optional end, stop comparing at that position.\n",
    "Changed in version 2.5: Accept tuples as suffix.\n",
    "\n",
    "`expandtabs(\t[tabsize])`\n",
    "Return a copy of the string where all tab characters are expanded using spaces. If tabsize is not given, a tab size of 8 characters is assumed.\n",
    "\n",
    "`find(\tsub[, start[, end]])`\n",
    "Return the lowest index in the string where substring sub is found, such that sub is contained in the range [start, end]. Optional arguments start and end are interpreted as in slice notation. Return -1 if sub is not found.\n",
    "\n",
    "`index(\tsub[, start[, end]])`\n",
    "Like find(), but raise ValueError when the substring is not found.\n",
    "\n",
    "`isalnum(\t)`\n",
    "Return true if all characters in the string are alphanumeric and there is at least one character, false otherwise.\n",
    "For 8-bit strings, this method is locale-dependent.\n",
    "\n",
    "`isalpha(\t)`\n",
    "Return true if all characters in the string are alphabetic and there is at least one character, false otherwise.\n",
    "For 8-bit strings, this method is locale-dependent.\n",
    "\n",
    "`isdigit(\t)`\n",
    "Return true if all characters in the string are digits and there is at least one character, false otherwise.\n",
    "For 8-bit strings, this method is locale-dependent.\n",
    "\n",
    "`islower(\t)`\n",
    "Return true if all cased characters in the string are lowercase and there is at least one cased character, false otherwise.\n",
    "For 8-bit strings, this method is locale-dependent.\n",
    "\n",
    "`isspace(\t)`\n",
    "Return true if there are only whitespace characters in the string and there is at least one character, false otherwise.\n",
    "For 8-bit strings, this method is locale-dependent.\n",
    "\n",
    "`istitle(\t)`\n",
    "Return true if the string is a titlecased string and there is at least one character, for example uppercase characters may only follow uncased characters and lowercase characters only cased ones. Return false otherwise.\n",
    "For 8-bit strings, this method is locale-dependent.\n",
    "\n",
    "`isupper(\t)`\n",
    "Return true if all cased characters in the string are uppercase and there is at least one cased character, false otherwise.\n",
    "For 8-bit strings, this method is locale-dependent.\n",
    "\n",
    "`join(\tseq)`\n",
    "Return a string which is the concatenation of the strings in the sequence seq. The separator between elements is the string providing this method.\n",
    "\n",
    "`ljust(\twidth[, fillchar])`\n",
    "Return the string left justified in a string of length width. Padding is done using the specified fillchar (default is a space). The original string is returned if width is less than len(s). Changed in version 2.4: Support for the fillchar argument.\n",
    "\n",
    "`lower(\t)`\n",
    "Return a copy of the string converted to lowercase.\n",
    "For 8-bit strings, this method is locale-dependent.\n",
    "\n",
    "`lstrip(\t[chars])`\n",
    "Return a copy of the string with leading characters removed. The chars argument is a string specifying the set of characters to be removed. If omitted or None, the chars argument defaults to removing whitespace. The chars argument is not a prefix; rather, all combinations of its values are stripped:\n",
    "\n",
    "`partition(\tsep)`\n",
    "Split the string at the first occurrence of sep, and return a 3-tuple containing the part before the separator, the separator itself, and the part after the separator. If the separator is not found, return a 3-tuple containing the string itself, followed by two empty strings.\n",
    "\n",
    "`replace(\told, new[, count])`\n",
    "Return a copy of the string with all occurrences of substring old replaced by new. If the optional argument count is given, only the first count occurrences are replaced.\n",
    "\n",
    "`rfind(\tsub [,start [,end]])`\n",
    "Return the highest index in the string where substring sub is found, such that sub is contained within s[start,end]. Optional arguments start and end are interpreted as in slice notation. Return -1 on failure.\n",
    "\n",
    "`rindex(\tsub[, start[, end]])`\n",
    "Like rfind() but raises ValueError when the substring sub is not found.\n",
    "\n",
    "`rjust(\twidth[, fillchar])`\n",
    "Return the string right justified in a string of length width. Padding is done using the specified fillchar (default is a space). The original string is returned if width is less than len(s). Changed in version 2.4: Support for the fillchar argument.\n",
    "\n",
    "`rpartition(\tsep)`\n",
    "Split the string at the last occurrence of sep, and return a 3-tuple containing the part before the separator, the separator itself, and the part after the separator. If the separator is not found, return a 3-tuple containing two empty strings, followed by the string itself.\n",
    "\n",
    "`rsplit(\t[sep [,maxsplit]])`\n",
    "Return a list of the words in the string, using sep as the delimiter string. If maxsplit is given, at most maxsplit splits are done, the rightmost ones. If sep is not specified or None, any whitespace string is a separator. Except for splitting from the right, rsplit() behaves like split() which is described in detail below.\n",
    "\n",
    "`rstrip(\t[chars])`\n",
    "Return a copy of the string with trailing characters removed. The chars argument is a string specifying the set of characters to be removed. If omitted or None, the chars argument defaults to removing whitespace. The chars argument is not a suffix; rather, all combinations of its values are stripped:\n",
    "\n",
    "`split(\t[sep [,maxsplit]])`\n",
    "Return a list of the words in the string, using sep as the delimiter string. If maxsplit is given, at most maxsplit splits are done. (thus, the list will have at most maxsplit+1 elements). If maxsplit is not specified, then there is no limit on the number of splits (all possible splits are made). Consecutive delimiters are not grouped together and are deemed to delimit empty strings (for example, \"'1„2'.split(',')\"returns \"['1', '', '2']\"). The sep argument may consist of multiple characters (for example, \"'1, 2, 3'.split(', ')\" returns \"['1', '2', '3']\"). Splitting an empty string with a specified separator returns \"['']\".\n",
    "If sep is not specified or is None, a different splitting algorithm is applied. First, whitespace characters (spaces, tabs, newlines, returns, and formfeeds) are stripped from both ends. Then, words are separated by arbitrary length strings of whitespace characters. Consecutive whitespace delimiters are treated as a single delimiter (\"'1 2 3'.split()\" returns \"['1', '2', '3']\"). Splitting an empty string or a string consisting of just whitespace returns an empty list.\n",
    "\n",
    "`splitlines(\t[keepends])`\n",
    "Return a list of the lines in the string, breaking at line boundaries. Line breaks are not included in the resulting list unless keepends is given and true.\n",
    "\n",
    "`startswith(\tprefix[, start[, end]])`\n",
    "Return True if string starts with the prefix, otherwise return False. prefix can also be a tuple of prefixes to look for. With optional start, test string beginning at that position. With optional end, stop comparing string at that position.\n",
    "Changed in version 2.5: Accept tuples as prefix.\n",
    "\n",
    "`strip(\t[chars])`\n",
    "Return a copy of the string with the leading and trailing characters removed. The chars argument is a string specifying the set of characters to be removed. If omitted or None, the chars argument defaults to removing whitespace. The chars argument is not a prefix or suffix; rather, all combinations of its values are stripped:\n",
    "    \n",
    "`swapcase(\t)`\n",
    "Return a copy of the string with uppercase characters converted to lowercase and vice versa.\n",
    "For 8-bit strings, this method is locale-dependent.\n",
    "\n",
    "`title(\t)`\n",
    "Return a titlecased version of the string: words start with uppercase characters, all remaining cased characters are lowercase.\n",
    "For 8-bit strings, this method is locale-dependent.\n",
    "\n",
    "`translate(\ttable[, deletechars])`\n",
    "Return a copy of the string where all characters occurring in the optional argument deletechars are removed, and the remaining characters have been mapped through the given translation table, which must be a string of length 256.\n",
    "You can use the maketrans() helper function in the string module to create a translation table.\n",
    "\n",
    "For Unicode objects, the translate() method does not accept the optional deletechars argument. Instead, it returns a copy of the s where all characters have been mapped through the given translation table which must be a mapping of Unicode ordinals to Unicode ordinals, Unicode strings or None. Unmapped characters are left untouched. Characters mapped to None are deleted. Note, a more flexible approach is to create a custom character mapping codec using the codecs module (see encodings.cp1251 for an example).\n",
    "\n",
    "`upper(\t)`\n",
    "Return a copy of the string converted to uppercase.\n",
    "For 8-bit strings, this method is locale-dependent.\n",
    "\n",
    "`zfill(\twidth)`\n",
    "Return the numeric string left filled with zeros in a string of length width. The original string is returned if width is less than len(s).|"
   ]
  },
  {
   "cell_type": "markdown",
   "metadata": {},
   "source": [
    "[2] How do the string forms in Python 3.X vary in terms of operations?"
   ]
  },
  {
   "cell_type": "markdown",
   "metadata": {},
   "source": [
    "In Python3 default format of strings is Unicode Whereas in Pyton2 we need to explicitly mention Unicode value using `u`."
   ]
  },
  {
   "cell_type": "markdown",
   "metadata": {},
   "source": [
    "[3] In Python 3.X, how do you put non-ASCII Unicode characters in a string?"
   ]
  },
  {
   "cell_type": "markdown",
   "metadata": {},
   "source": [
    "In Python 3.x unidecode() method from unidecode library can be used to put non-ASCII Unicode Characters in a string."
   ]
  },
  {
   "cell_type": "markdown",
   "metadata": {},
   "source": [
    "[4] In Python 3.X, what are the key differences between text-mode and binary-mode files?"
   ]
  },
  {
   "cell_type": "markdown",
   "metadata": {},
   "source": [
    "The major difference between these two is that a text file contains textual information in the form of alphabets, digits and special characters or symbols. On the other hand, a binary file contains bytes or a compiled version of a text file.\n",
    "\n",
    "When a file is opened in text mode, reading its data automatically decodes its content (as per the platform default or as per provided encoding), and returns it as a str; writing operation takes a str, and automatically encodes it before transferring to the file. Text mode files also support universal end-of-line translation, and encoding specification arguments.\n",
    "\n",
    "When a file is opened in binary mode by adding a b to the mode string argument in the open() call, reading its data does not decode it in any way, and simply returns its content raw and unchanged, as a bytes object; writing takes a bytes object and transfers it to the file unchanged. Binary-mode files also accept a bytearray object for the content to be written to the file."
   ]
  },
  {
   "cell_type": "markdown",
   "metadata": {},
   "source": [
    "[5] How can you interpret a Unicode text file containing text encoded in a different encoding than your platform's default?"
   ]
  },
  {
   "cell_type": "markdown",
   "metadata": {},
   "source": [
    "The `encode()` and `decode()` method can be used to you interpret a Unicode text file containing text encoded in a different encoding than your platform's default, by default encoding parameter is UTF-8"
   ]
  },
  {
   "cell_type": "markdown",
   "metadata": {},
   "source": [
    "[6] What is the best way to make a Unicode text file in a particular encoding format?"
   ]
  },
  {
   "cell_type": "markdown",
   "metadata": {},
   "source": [
    "We can use `str.encode()` and `file.write()` to make a Unicode text file in a particular encoding format, default encoding format is UTF-18."
   ]
  },
  {
   "cell_type": "markdown",
   "metadata": {},
   "source": [
    "[7] What qualifies ASCII text as a form of Unicode text?"
   ]
  },
  {
   "cell_type": "markdown",
   "metadata": {},
   "source": [
    "`Unicode` represents most written languages in the world, ASCII has its equivalent in Unicode. The difference between ASCII and Unicode is that ASCII represents lowercase letters (a-z), uppercase letters (A-Z), digits (0–9) and symbols such as punctuation marks while Unicode represents letters of English, Arabic, Greek etc. mathematical symbols, historical scripts, emoji covering a wide range of characters than ASCII."
   ]
  },
  {
   "cell_type": "markdown",
   "metadata": {},
   "source": [
    "[8] How much of an effect does the change in string types in Python 3.X have on your code?"
   ]
  },
  {
   "cell_type": "markdown",
   "metadata": {},
   "source": [
    "Python 3 stores strings as `Unicode` by default whereas Python 2 requires you to mark a string with a `u` if you want to store it as `Unicode`. `Unicode` strings are more versatile than ASCII strings, which are the Python 3.X default, as they can store letters from foreign languages as well as emoji and the standard Roman letters and numerals."
   ]
  },
  {
   "cell_type": "markdown",
   "metadata": {},
   "source": []
  }
 ],
 "metadata": {
  "interpreter": {
   "hash": "6a29e2dc1dff254fde9fe0adfc93793dce0eb37305baeb0bf256b822ae78c6d6"
  },
  "kernelspec": {
   "display_name": "Python 3.8.13 ('envfsds38')",
   "language": "python",
   "name": "python3"
  },
  "language_info": {
   "name": "python",
   "version": "3.8.13"
  },
  "orig_nbformat": 4
 },
 "nbformat": 4,
 "nbformat_minor": 2
}
