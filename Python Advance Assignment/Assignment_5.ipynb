{
 "cells": [
  {
   "cell_type": "markdown",
   "metadata": {},
   "source": [
    "[1] What is the meaning of multiple inheritance?"
   ]
  },
  {
   "cell_type": "markdown",
   "metadata": {},
   "source": [
    "Multiple inheritance means, a class can have multiple base class and can have all the methods of the base classes can be used by the derived class."
   ]
  },
  {
   "cell_type": "code",
   "execution_count": 1,
   "metadata": {},
   "outputs": [],
   "source": [
    "class BaseOne:\n",
    "    pass\n",
    "\n",
    "class BaseTwo:\n",
    "    pass\n",
    "\n",
    "class MultiDerived(BaseOne, BaseTwo):\n",
    "    pass"
   ]
  },
  {
   "cell_type": "markdown",
   "metadata": {},
   "source": [
    "[2] What is the concept of delegation?"
   ]
  },
  {
   "cell_type": "markdown",
   "metadata": {},
   "source": [
    "The concept of delegation is same as it is of inheritance, but in delegation we use a wrapper over the child class so that it can use the methods of the parent class."
   ]
  },
  {
   "cell_type": "markdown",
   "metadata": {},
   "source": [
    "[3] What is the concept of composition?"
   ]
  },
  {
   "cell_type": "markdown",
   "metadata": {},
   "source": [
    "In the concept of Composition, a class refers to one or more other classes by using instances of those classes as a instance variable, irrespective of inheritence in this approach all the parent class members are not inherited into child class, but only required methods from a class are used by using class instances."
   ]
  },
  {
   "cell_type": "markdown",
   "metadata": {},
   "source": [
    "\n",
    "[4] What are bound methods and how do we use them?"
   ]
  },
  {
   "cell_type": "markdown",
   "metadata": {},
   "source": [
    "If a method is an attribute of class and it is accessed via the instances, they are called bound methods. A bound method is one that has self as its first argument. We can only access them through the object of that class."
   ]
  },
  {
   "cell_type": "markdown",
   "metadata": {},
   "source": [
    "[5] What is the purpose of pseudoprivate attributes?"
   ]
  },
  {
   "cell_type": "markdown",
   "metadata": {},
   "source": [
    "Pseudoprivate attributes are thoes which starts with `_` and can only be used by that class, also in larg application it prevents accidnetly replacing the exisitng method."
   ]
  },
  {
   "cell_type": "markdown",
   "metadata": {},
   "source": []
  }
 ],
 "metadata": {
  "interpreter": {
   "hash": "6a29e2dc1dff254fde9fe0adfc93793dce0eb37305baeb0bf256b822ae78c6d6"
  },
  "kernelspec": {
   "display_name": "Python 3.8.13 ('envfsds38')",
   "language": "python",
   "name": "python3"
  },
  "language_info": {
   "codemirror_mode": {
    "name": "ipython",
    "version": 3
   },
   "file_extension": ".py",
   "mimetype": "text/x-python",
   "name": "python",
   "nbconvert_exporter": "python",
   "pygments_lexer": "ipython3",
   "version": "3.8.13"
  },
  "orig_nbformat": 4
 },
 "nbformat": 4,
 "nbformat_minor": 2
}
