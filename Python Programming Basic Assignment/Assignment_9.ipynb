{
 "cells": [
  {
   "cell_type": "markdown",
   "metadata": {},
   "source": [
    "# Python Programming Basic Assignment\n",
    "### Assignment 9"
   ]
  },
  {
   "cell_type": "markdown",
   "metadata": {},
   "source": [
    "[1] Write a Python program to check if the given number is a Disarium Number?"
   ]
  },
  {
   "cell_type": "code",
   "execution_count": 20,
   "metadata": {},
   "outputs": [],
   "source": [
    "def check_disarium_number(num: int):\n",
    "    \n",
    "    power = 1\n",
    "    sum = 0\n",
    "\n",
    "    for n in str(num):\n",
    "        if n == '0':\n",
    "            pass\n",
    "        else:\n",
    "            sum += int(n) ** power\n",
    "        power += 1\n",
    "\n",
    "    if sum == num:\n",
    "        return True\n",
    "    else:\n",
    "        return False"
   ]
  },
  {
   "cell_type": "code",
   "execution_count": 21,
   "metadata": {},
   "outputs": [
    {
     "name": "stdout",
     "output_type": "stream",
     "text": [
      "False\n"
     ]
    }
   ],
   "source": [
    "print(check_disarium_number(1705))"
   ]
  },
  {
   "cell_type": "markdown",
   "metadata": {},
   "source": [
    "[2] Write a Python program to print all disarium numbers between 1 to 100?"
   ]
  },
  {
   "cell_type": "code",
   "execution_count": 22,
   "metadata": {},
   "outputs": [],
   "source": [
    "def check_disarium_number(num: int):\n",
    "    \n",
    "    power = 1\n",
    "    sum = 0\n",
    "\n",
    "    for n in str(num):\n",
    "        if n == '0':\n",
    "            pass\n",
    "        else:\n",
    "            sum += int(n) ** power\n",
    "        power += 1\n",
    "\n",
    "    if sum == num:\n",
    "        return True\n",
    "    else:\n",
    "        return False"
   ]
  },
  {
   "cell_type": "code",
   "execution_count": 23,
   "metadata": {},
   "outputs": [
    {
     "name": "stdout",
     "output_type": "stream",
     "text": [
      "1 2 3 4 5 6 7 8 9 89 "
     ]
    }
   ],
   "source": [
    "for i in range(1, 100):\n",
    "\n",
    "    if check_disarium_number(i):\n",
    "        print(i, end=' ')"
   ]
  },
  {
   "cell_type": "markdown",
   "metadata": {},
   "source": [
    "[3] Write a Python program to check if the given number is Happy Number?"
   ]
  },
  {
   "cell_type": "code",
   "execution_count": 55,
   "metadata": {},
   "outputs": [],
   "source": [
    "def check_happy_number(number: int):\n",
    "\n",
    "    sum = 0\n",
    "\n",
    "    while True:\n",
    "    \n",
    "        for n in str(number):\n",
    "            if n == '0':\n",
    "                pass\n",
    "            else:\n",
    "                sum += int(n) * int(n)\n",
    "\n",
    "        number = sum\n",
    "        sum = 0\n",
    "\n",
    "        if number == 1:\n",
    "            return True\n",
    "        if number == 4:\n",
    "            return False\n",
    "        if len(str(number)) == 1:\n",
    "            return False"
   ]
  },
  {
   "cell_type": "code",
   "execution_count": 56,
   "metadata": {},
   "outputs": [
    {
     "data": {
      "text/plain": [
       "True"
      ]
     },
     "execution_count": 56,
     "metadata": {},
     "output_type": "execute_result"
    }
   ],
   "source": [
    "check_happy_number(28)"
   ]
  },
  {
   "cell_type": "markdown",
   "metadata": {},
   "source": [
    "[4] Write a Python program to print all happy numbers between 1 and 100?"
   ]
  },
  {
   "cell_type": "code",
   "execution_count": 57,
   "metadata": {},
   "outputs": [],
   "source": [
    "def check_happy_number(number: int):\n",
    "\n",
    "    sum = 0\n",
    "\n",
    "    while True:\n",
    "    \n",
    "        for n in str(number):\n",
    "            if n == '0':\n",
    "                pass\n",
    "            else:\n",
    "                sum += int(n) * int(n)\n",
    "\n",
    "        number = sum\n",
    "        sum = 0\n",
    "\n",
    "        if number == 1:\n",
    "            return True\n",
    "        if number == 4:\n",
    "            return False\n",
    "        if len(str(number)) == 1:\n",
    "            return False"
   ]
  },
  {
   "cell_type": "code",
   "execution_count": 58,
   "metadata": {},
   "outputs": [
    {
     "name": "stdout",
     "output_type": "stream",
     "text": [
      "1 7 10 13 19 23 28 31 32 44 49 68 70 79 82 86 91 94 97 "
     ]
    }
   ],
   "source": [
    "for i in range(100):\n",
    "    if check_happy_number(i):\n",
    "        print(i, end=' ')"
   ]
  },
  {
   "cell_type": "markdown",
   "metadata": {},
   "source": [
    "[5] Write a Python program to determine whether the given number is a Harshad Number?"
   ]
  },
  {
   "cell_type": "code",
   "execution_count": 61,
   "metadata": {},
   "outputs": [],
   "source": [
    "def check_harshad_number(number: int):\n",
    "\n",
    "    sum = 0\n",
    "\n",
    "    for n in str(number):\n",
    "        sum += int(n)\n",
    "\n",
    "    if number % sum == 0:\n",
    "        return True\n",
    "    else:\n",
    "        return False"
   ]
  },
  {
   "cell_type": "code",
   "execution_count": 62,
   "metadata": {},
   "outputs": [
    {
     "name": "stdout",
     "output_type": "stream",
     "text": [
      "True\n"
     ]
    }
   ],
   "source": [
    "print(check_harshad_number(156))"
   ]
  },
  {
   "cell_type": "markdown",
   "metadata": {},
   "source": [
    "[6] Write a Python program to print all pronic numbers between 1 and 100?"
   ]
  },
  {
   "cell_type": "code",
   "execution_count": 69,
   "metadata": {},
   "outputs": [],
   "source": [
    "import math\n",
    "\n",
    "def check_pronic_number(number: int):\n",
    "\n",
    "    i = 1\n",
    "\n",
    "    while i <= int(math.sqrt(number)):\n",
    "        if (i * (i + 1)) == number:\n",
    "            return True\n",
    "        i += 1"
   ]
  },
  {
   "cell_type": "code",
   "execution_count": 70,
   "metadata": {},
   "outputs": [
    {
     "name": "stdout",
     "output_type": "stream",
     "text": [
      "2 6 12 20 30 42 56 72 90 "
     ]
    }
   ],
   "source": [
    "for i in range(100):\n",
    "\n",
    "    if check_pronic_number(i):\n",
    "        print(i, end=' ')"
   ]
  },
  {
   "cell_type": "code",
   "execution_count": null,
   "metadata": {},
   "outputs": [],
   "source": []
  }
 ],
 "metadata": {
  "interpreter": {
   "hash": "6a29e2dc1dff254fde9fe0adfc93793dce0eb37305baeb0bf256b822ae78c6d6"
  },
  "kernelspec": {
   "display_name": "Python 3.8.13 ('envfsds38')",
   "language": "python",
   "name": "python3"
  },
  "language_info": {
   "codemirror_mode": {
    "name": "ipython",
    "version": 3
   },
   "file_extension": ".py",
   "mimetype": "text/x-python",
   "name": "python",
   "nbconvert_exporter": "python",
   "pygments_lexer": "ipython3",
   "version": "3.8.13"
  },
  "orig_nbformat": 4
 },
 "nbformat": 4,
 "nbformat_minor": 2
}
