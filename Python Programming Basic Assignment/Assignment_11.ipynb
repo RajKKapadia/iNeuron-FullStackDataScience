{
 "cells": [
  {
   "cell_type": "markdown",
   "metadata": {},
   "source": [
    "# Python Programming Basic Assignment\n",
    "### Assignment 11"
   ]
  },
  {
   "cell_type": "markdown",
   "metadata": {},
   "source": [
    "[1] Write a Python program to find words which are greater than given length k?"
   ]
  },
  {
   "cell_type": "code",
   "execution_count": null,
   "metadata": {},
   "outputs": [],
   "source": [
    "from typing "
   ]
  },
  {
   "cell_type": "markdown",
   "metadata": {},
   "source": [
    "[2] Write a Python program for removing i-th character from a string?"
   ]
  },
  {
   "cell_type": "markdown",
   "metadata": {},
   "source": [
    "[3] Write a Python program to split and join a string?"
   ]
  },
  {
   "cell_type": "markdown",
   "metadata": {},
   "source": [
    "[4] Write a Python to check if a given string is binary string or not?"
   ]
  },
  {
   "cell_type": "markdown",
   "metadata": {},
   "source": [
    "[5] Write a Python program to find uncommon words from two Strings?"
   ]
  },
  {
   "cell_type": "markdown",
   "metadata": {},
   "source": [
    "[6] Write a Python to find all duplicate characters in string?"
   ]
  },
  {
   "cell_type": "markdown",
   "metadata": {},
   "source": [
    "[7] Write a Python Program to check if a string contains any special character?"
   ]
  }
 ],
 "metadata": {
  "interpreter": {
   "hash": "6a29e2dc1dff254fde9fe0adfc93793dce0eb37305baeb0bf256b822ae78c6d6"
  },
  "kernelspec": {
   "display_name": "Python 3.8.13 ('envfsds38')",
   "language": "python",
   "name": "python3"
  },
  "language_info": {
   "name": "python",
   "version": "3.8.13"
  },
  "orig_nbformat": 4
 },
 "nbformat": 4,
 "nbformat_minor": 2
}
