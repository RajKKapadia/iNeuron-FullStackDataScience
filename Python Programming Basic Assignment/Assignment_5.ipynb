{
 "cells": [
  {
   "cell_type": "markdown",
   "metadata": {},
   "source": [
    "# Python Programming Basic Assignment\n",
    "### Assignment 5"
   ]
  },
  {
   "cell_type": "markdown",
   "metadata": {},
   "source": [
    "[1] Write a Python Program to Find LCM?"
   ]
  },
  {
   "cell_type": "code",
   "execution_count": 130,
   "metadata": {},
   "outputs": [],
   "source": [
    "''' Method 1\n",
    "    LCM by listing method\n",
    "'''\n",
    "\n",
    "def get_lcm_listing_method(a: int, b: int) -> int:\n",
    "\n",
    "    if a == b:\n",
    "        return a\n",
    "\n",
    "    if a == 1:\n",
    "        return b\n",
    "    \n",
    "    if b == 1:\n",
    "        return a\n",
    "    \n",
    "    if a == 0 or b == 0:\n",
    "        return 0\n",
    "\n",
    "    flag = True\n",
    "    index = 2\n",
    "\n",
    "    a_sum = []\n",
    "    b_sum = []\n",
    "\n",
    "    lcm = 0\n",
    "\n",
    "    while flag:\n",
    "\n",
    "        x = a * index\n",
    "        y = b * index\n",
    "\n",
    "        a_sum.append(x)\n",
    "        b_sum.append(y)\n",
    "\n",
    "        if x in b_sum:\n",
    "            flag = False\n",
    "            lcm = x\n",
    "        \n",
    "        if y in a_sum:\n",
    "            flag = False\n",
    "            lcm = y\n",
    "\n",
    "        if index == 1000:\n",
    "            flag = False  \n",
    "    \n",
    "        index += 1\n",
    "\n",
    "    return lcm"
   ]
  },
  {
   "cell_type": "code",
   "execution_count": 131,
   "metadata": {},
   "outputs": [],
   "source": [
    "def is_prime(n):\n",
    "\n",
    "    if n == 1 or n == 0:\n",
    "        return False\n",
    "    \n",
    "    index = 2\n",
    "\n",
    "    while (index * index) <= n:\n",
    "        if n % index == 0:\n",
    "            return False\n",
    "        index += 1\n",
    "    \n",
    "    return True"
   ]
  },
  {
   "cell_type": "code",
   "execution_count": 132,
   "metadata": {},
   "outputs": [],
   "source": [
    "''' Bad approach, since it takes two much time\n",
    "'''\n",
    "def get_prime_factors(n):\n",
    "\n",
    "    prime_factors = []\n",
    "\n",
    "    i = 2\n",
    "\n",
    "    while (i * i) <= n:\n",
    "\n",
    "        if n == 1:\n",
    "            break\n",
    "\n",
    "        if not is_prime(i):\n",
    "            continue\n",
    "        \n",
    "        flag = True\n",
    "\n",
    "        while flag:\n",
    "            if n % i == 0:\n",
    "                n /= i\n",
    "                prime_factors.append(i)\n",
    "            else:\n",
    "                flag = False\n",
    "        \n",
    "        i += 1\n",
    "\n",
    "    return prime_factors"
   ]
  },
  {
   "cell_type": "code",
   "execution_count": 133,
   "metadata": {},
   "outputs": [],
   "source": [
    "''' Good approach\n",
    "\tget all the prime factors of a number\n",
    "'''\n",
    "import math\n",
    "\n",
    "def prime_factors(n):\n",
    "\t\n",
    "\tprime_factors = []\n",
    "\n",
    "\twhile n % 2 == 0:\n",
    "\t\tprime_factors.append(2)\n",
    "\t\tn /= 2\n",
    "\t\t\n",
    "\tfor i in range(3, int(math.sqrt(n)) + 1, 2):\n",
    "\t\twhile n % i == 0:\n",
    "\t\t\tprime_factors.append(i)\n",
    "\t\t\tn = n / i\n",
    "\t\t\t\n",
    "\tif n > 2:\n",
    "\t\tprime_factors.append(int(n))\n",
    "\t\n",
    "\treturn prime_factors"
   ]
  },
  {
   "cell_type": "code",
   "execution_count": 134,
   "metadata": {},
   "outputs": [],
   "source": [
    "''' Method 2\n",
    "    LCM by prime factorization\n",
    "'''\n",
    "\n",
    "def get_lcm_prime_factorization(a: int, b:int) -> int:\n",
    "\n",
    "    a_factors = prime_factors(a)\n",
    "    b_factors = prime_factors(b)\n",
    "\n",
    "    factors = a_factors + b_factors\n",
    "\n",
    "    unique_factors = []\n",
    "\n",
    "    for f in factors:\n",
    "        if f not in unique_factors:\n",
    "            unique_factors.append(f)\n",
    "\n",
    "    lcm = 1\n",
    "\n",
    "    for uf in unique_factors:\n",
    "\n",
    "        a_count = a_factors.count(uf)\n",
    "        b_count = b_factors.count(uf)\n",
    "\n",
    "        if a_count > b_count:\n",
    "            lcm *= (uf ** a_count)\n",
    "        else:\n",
    "            lcm *= (uf ** b_count)\n",
    "\n",
    "    return lcm"
   ]
  },
  {
   "cell_type": "code",
   "execution_count": 135,
   "metadata": {},
   "outputs": [],
   "source": [
    "def get_hcf(a, b):\n",
    "\n",
    "    a_factors = prime_factors(a)\n",
    "    b_factors = prime_factors(b)\n",
    "\n",
    "    factors = a_factors + b_factors\n",
    "\n",
    "    common_factors = []\n",
    "\n",
    "    for f in factors:\n",
    "        if f in a_factors and f in b_factors and f not in common_factors:\n",
    "            common_factors.append(f)\n",
    "\n",
    "    hcf = 1\n",
    "\n",
    "    for cf in common_factors:\n",
    "        hcf *= cf\n",
    "    \n",
    "    return hcf"
   ]
  },
  {
   "cell_type": "code",
   "execution_count": 136,
   "metadata": {},
   "outputs": [],
   "source": [
    "''' Method 3\n",
    "    LCM by formula\n",
    "'''\n",
    "\n",
    "def get_lcm_with_formula(a: int, b:int) -> int:\n",
    "\n",
    "    hcf = get_hcf(a, b)\n",
    "\n",
    "    lcm = (a * b) / hcf\n",
    "\n",
    "    return int(lcm)"
   ]
  },
  {
   "cell_type": "code",
   "execution_count": 137,
   "metadata": {},
   "outputs": [
    {
     "data": {
      "text/plain": [
       "360"
      ]
     },
     "execution_count": 137,
     "metadata": {},
     "output_type": "execute_result"
    }
   ],
   "source": [
    "get_lcm_listing_method(120, 90)"
   ]
  },
  {
   "cell_type": "code",
   "execution_count": 138,
   "metadata": {},
   "outputs": [
    {
     "data": {
      "text/plain": [
       "360"
      ]
     },
     "execution_count": 138,
     "metadata": {},
     "output_type": "execute_result"
    }
   ],
   "source": [
    "get_lcm_prime_factorization(120, 90)"
   ]
  },
  {
   "cell_type": "code",
   "execution_count": 139,
   "metadata": {},
   "outputs": [
    {
     "data": {
      "text/plain": [
       "360"
      ]
     },
     "execution_count": 139,
     "metadata": {},
     "output_type": "execute_result"
    }
   ],
   "source": [
    "get_lcm_with_formula(120, 90)"
   ]
  },
  {
   "cell_type": "markdown",
   "metadata": {},
   "source": [
    "[2] Write a Python Program to Find HCF?"
   ]
  },
  {
   "cell_type": "code",
   "execution_count": 140,
   "metadata": {},
   "outputs": [],
   "source": [
    "''' Good approach\n",
    "\tget all the prime factors of a number\n",
    "'''\n",
    "import math\n",
    "\n",
    "def prime_factors(n):\n",
    "\t\n",
    "\tprime_factors = []\n",
    "\n",
    "\twhile n % 2 == 0:\n",
    "\t\tprime_factors.append(2)\n",
    "\t\tn /= 2\n",
    "\t\t\n",
    "\tfor i in range(3, int(math.sqrt(n)) + 1, 2):\n",
    "\t\twhile n % i == 0:\n",
    "\t\t\tprime_factors.append(i)\n",
    "\t\t\tn = n / i\n",
    "\t\t\t\n",
    "\tif n > 2:\n",
    "\t\tprime_factors.append(int(n))\n",
    "\t\n",
    "\treturn prime_factors"
   ]
  },
  {
   "cell_type": "code",
   "execution_count": 141,
   "metadata": {},
   "outputs": [],
   "source": [
    "def get_hcf(a: int, b:int) -> int:\n",
    "\n",
    "    a_factors = prime_factors(a)\n",
    "    b_factors = prime_factors(b)\n",
    "\n",
    "    factors = a_factors + b_factors\n",
    "\n",
    "    common_factors = []\n",
    "\n",
    "    for f in factors:\n",
    "        if f in a_factors and f in b_factors and f not in common_factors:\n",
    "            common_factors.append(f)\n",
    "\n",
    "    hcf = 1\n",
    "\n",
    "    for cf in common_factors:\n",
    "        hcf *= cf\n",
    "    \n",
    "    return hcf"
   ]
  },
  {
   "cell_type": "code",
   "execution_count": 142,
   "metadata": {},
   "outputs": [
    {
     "data": {
      "text/plain": [
       "6"
      ]
     },
     "execution_count": 142,
     "metadata": {},
     "output_type": "execute_result"
    }
   ],
   "source": [
    "get_hcf(336, 54)"
   ]
  },
  {
   "cell_type": "markdown",
   "metadata": {},
   "source": [
    "[3] Write a Python Program to Convert Decimal to Binary, Octal and Hexadecimal?"
   ]
  },
  {
   "cell_type": "markdown",
   "metadata": {},
   "source": [
    "There are inbuilt functions that does the conversion..."
   ]
  },
  {
   "cell_type": "code",
   "execution_count": 150,
   "metadata": {},
   "outputs": [
    {
     "name": "stdout",
     "output_type": "stream",
     "text": [
      "Decimal 12 is equal to Binary 0b1100.\n"
     ]
    }
   ],
   "source": [
    "number = 12\n",
    "\n",
    "binary = bin(number)\n",
    "print(f'Decimal {number} is equal to Binary {binary}.')"
   ]
  },
  {
   "cell_type": "code",
   "execution_count": 153,
   "metadata": {},
   "outputs": [
    {
     "name": "stdout",
     "output_type": "stream",
     "text": [
      "Octal 0o14 is equal to Hexadecimal 0xc.\n"
     ]
    }
   ],
   "source": [
    "number = 12\n",
    "\n",
    "octal = oct(number)\n",
    "hexadecimal = hex(int(octal, base=8))\n",
    "print(f'Octal {octal} is equal to Hexadecimal {hexadecimal}.')"
   ]
  },
  {
   "cell_type": "markdown",
   "metadata": {},
   "source": [
    "[4] Write a Python Program To Find ASCII value of a character?"
   ]
  },
  {
   "cell_type": "code",
   "execution_count": 154,
   "metadata": {},
   "outputs": [
    {
     "name": "stdout",
     "output_type": "stream",
     "text": [
      "ASCII value of x is 120.\n"
     ]
    }
   ],
   "source": [
    "c = 'x'\n",
    "ascii = ord(c)\n",
    "\n",
    "print(f'ASCII value of {c} is {ascii}.')"
   ]
  },
  {
   "cell_type": "markdown",
   "metadata": {},
   "source": [
    "[5] Write a Python Program to Make a Simple Calculator with 4 basic mathematical operations?"
   ]
  },
  {
   "cell_type": "code",
   "execution_count": 162,
   "metadata": {},
   "outputs": [],
   "source": [
    "''' Simple calculator\n",
    "    Takes - a and b number, character for mathematical operation\n",
    "    Returns - calculation\n",
    "'''\n",
    "\n",
    "from typing import Any\n",
    "\n",
    "def calculator(a: Any, b: Any, oper: str) -> Any:\n",
    "\n",
    "    if oper not in ['+', '-', '*', '/']:\n",
    "        print('Use a valid mathematical operator from +, -, *, /.')\n",
    "    if oper == '+':\n",
    "        return a + b\n",
    "    if oper == '-':\n",
    "        return a - b\n",
    "    if oper == '*':\n",
    "        return a * b\n",
    "    if oper == '/':\n",
    "        return a / b"
   ]
  },
  {
   "cell_type": "code",
   "execution_count": 164,
   "metadata": {},
   "outputs": [
    {
     "data": {
      "text/plain": [
       "5"
      ]
     },
     "execution_count": 164,
     "metadata": {},
     "output_type": "execute_result"
    }
   ],
   "source": [
    "calculator(2, 3, '+')"
   ]
  },
  {
   "cell_type": "code",
   "execution_count": null,
   "metadata": {},
   "outputs": [],
   "source": []
  }
 ],
 "metadata": {
  "interpreter": {
   "hash": "6a29e2dc1dff254fde9fe0adfc93793dce0eb37305baeb0bf256b822ae78c6d6"
  },
  "kernelspec": {
   "display_name": "Python 3.8.13 ('envfsds38')",
   "language": "python",
   "name": "python3"
  },
  "language_info": {
   "codemirror_mode": {
    "name": "ipython",
    "version": 3
   },
   "file_extension": ".py",
   "mimetype": "text/x-python",
   "name": "python",
   "nbconvert_exporter": "python",
   "pygments_lexer": "ipython3",
   "version": "3.8.13"
  },
  "orig_nbformat": 4
 },
 "nbformat": 4,
 "nbformat_minor": 2
}
