{
 "cells": [
  {
   "cell_type": "markdown",
   "metadata": {},
   "source": [
    "# Python Programming Basic Assignment\n",
    "### Assignment 10"
   ]
  },
  {
   "cell_type": "markdown",
   "metadata": {},
   "source": [
    "[1] Write a Python program to find sum of elements in list?"
   ]
  },
  {
   "cell_type": "code",
   "execution_count": 1,
   "metadata": {},
   "outputs": [],
   "source": [
    "from typing import List, Any\n",
    "def sum_list_elements(l: List) -> Any:\n",
    "    ''' Get sum of all the elements from a list\n",
    "        Takes - l (list)\n",
    "        Returns - Sum of all the elements\n",
    "    '''\n",
    "\n",
    "    sum = 0\n",
    "\n",
    "    for e in l:\n",
    "        sum += e\n",
    "\n",
    "    return sum"
   ]
  },
  {
   "cell_type": "code",
   "execution_count": 2,
   "metadata": {},
   "outputs": [
    {
     "name": "stdout",
     "output_type": "stream",
     "text": [
      "45\n"
     ]
    }
   ],
   "source": [
    "print(sum_list_elements([1, 2, 3, 4, 5, 6, 7, 8, 9,]))"
   ]
  },
  {
   "cell_type": "markdown",
   "metadata": {},
   "source": [
    "[2] Write a Python program to Multiply all numbers in the list?"
   ]
  },
  {
   "cell_type": "code",
   "execution_count": 3,
   "metadata": {},
   "outputs": [],
   "source": [
    "from typing import List, Any\n",
    "\n",
    "def multiply_list_elements(l: List) -> Any:\n",
    "    ''' Get multiplication of all the elements from a list\n",
    "        Takes - l (list)\n",
    "        Returns - Multiplication of all the elements\n",
    "    '''\n",
    "\n",
    "    sum = 1\n",
    "\n",
    "    for e in l:\n",
    "        sum *= e\n",
    "\n",
    "    return sum"
   ]
  },
  {
   "cell_type": "code",
   "execution_count": 4,
   "metadata": {},
   "outputs": [
    {
     "name": "stdout",
     "output_type": "stream",
     "text": [
      "362880\n"
     ]
    }
   ],
   "source": [
    "print(multiply_list_elements([1, 2, 3, 4, 5, 6, 7, 8, 9,]))"
   ]
  },
  {
   "cell_type": "markdown",
   "metadata": {},
   "source": [
    "[3] Write a Python program to find smallest number in a list?"
   ]
  },
  {
   "cell_type": "code",
   "execution_count": 13,
   "metadata": {},
   "outputs": [],
   "source": [
    "from typing import List, Any\n",
    "\n",
    "def find_smallest_elements(l: List) -> Any:\n",
    "    ''' Get smallest elements from a list\n",
    "        Takes - l (list)\n",
    "        Returns - smallest element\n",
    "    '''\n",
    "\n",
    "    smallest = l[0]\n",
    "\n",
    "    for e in l:\n",
    "        if e < smallest:\n",
    "            smallest = e\n",
    "\n",
    "    return smallest"
   ]
  },
  {
   "cell_type": "code",
   "execution_count": 15,
   "metadata": {},
   "outputs": [
    {
     "name": "stdout",
     "output_type": "stream",
     "text": [
      "-1\n"
     ]
    }
   ],
   "source": [
    "print(find_smallest_elements([1, 2, 3, 4, 5, 6, 7, 8, 9, -1]))"
   ]
  },
  {
   "cell_type": "markdown",
   "metadata": {},
   "source": [
    "[4] Write a Python program to find largest number in a list?"
   ]
  },
  {
   "cell_type": "code",
   "execution_count": 18,
   "metadata": {},
   "outputs": [],
   "source": [
    "from typing import List, Any\n",
    "\n",
    "def find_largest_elements(l: List) -> Any:\n",
    "    ''' Get largest elements from a list\n",
    "        Takes - l (list)\n",
    "        Returns - largest element\n",
    "    '''\n",
    "\n",
    "    largest = l[0]\n",
    "\n",
    "    for e in l:\n",
    "        if e > largest:\n",
    "            largest = e\n",
    "\n",
    "    return largest"
   ]
  },
  {
   "cell_type": "code",
   "execution_count": 19,
   "metadata": {},
   "outputs": [
    {
     "name": "stdout",
     "output_type": "stream",
     "text": [
      "9\n"
     ]
    }
   ],
   "source": [
    "print(find_largest_elements([1, 2, 3, 4, 5, 6, 7, 8, 9, -1]))"
   ]
  },
  {
   "cell_type": "markdown",
   "metadata": {},
   "source": [
    "[5] Write a Python program to find second largest number in a list?"
   ]
  },
  {
   "cell_type": "code",
   "execution_count": 1,
   "metadata": {},
   "outputs": [],
   "source": [
    "from typing import List, Any\n",
    "\n",
    "def find_second_largest_elements(l: List) -> Any:\n",
    "    ''' Get second largest elements from a list\n",
    "        Takes - l (list)\n",
    "        Returns - second largest element\n",
    "    '''\n",
    "\n",
    "    largest = l[0]\n",
    "    second_largest = l[0]\n",
    "\n",
    "    for e in l:\n",
    "        if e > largest:\n",
    "            second_largest = largest\n",
    "            largest = e\n",
    "    return second_largest       "
   ]
  },
  {
   "cell_type": "code",
   "execution_count": 3,
   "metadata": {},
   "outputs": [
    {
     "name": "stdout",
     "output_type": "stream",
     "text": [
      "9\n"
     ]
    }
   ],
   "source": [
    "print(find_second_largest_elements([1, 2, 3, 4, 5, 6, 7, 8, 9, -1, 25]))"
   ]
  },
  {
   "cell_type": "markdown",
   "metadata": {},
   "source": [
    "[6] Write a Python program to find N largest elements from a list?"
   ]
  },
  {
   "cell_type": "code",
   "execution_count": 10,
   "metadata": {},
   "outputs": [],
   "source": [
    "from typing import List\n",
    "\n",
    "def get_n_largest_elements(l: List, n: int) -> List:\n",
    "    ''' Get N largest elements from a list\n",
    "        Takes - l (list), n (int) number of elements\n",
    "        Returns - list of n largest elements from a list l\n",
    "    '''\n",
    "\n",
    "    l.sort(reverse=True)\n",
    "\n",
    "    return l[0:n]"
   ]
  },
  {
   "cell_type": "code",
   "execution_count": 11,
   "metadata": {},
   "outputs": [
    {
     "name": "stdout",
     "output_type": "stream",
     "text": [
      "[25, 9, 8, 7]\n"
     ]
    }
   ],
   "source": [
    "print(get_n_largest_elements([1, 2, 3, 4, 5, 6, 7, 8, 9, -1, 25], 4))"
   ]
  },
  {
   "cell_type": "markdown",
   "metadata": {},
   "source": [
    "[7] Write a Python program to print even numbers in a list?"
   ]
  },
  {
   "cell_type": "code",
   "execution_count": 1,
   "metadata": {},
   "outputs": [],
   "source": [
    "def check_odd_even(number):\n",
    "\n",
    "    if number % 2 == 0:\n",
    "        return True\n",
    "    else:\n",
    "        return False"
   ]
  },
  {
   "cell_type": "code",
   "execution_count": 3,
   "metadata": {},
   "outputs": [],
   "source": [
    "from typing import List\n",
    "\n",
    "def print_even_numbers(l: List) -> None:\n",
    "    ''' Print all the even numbers from a list\n",
    "        Takes - l (list)\n",
    "        Return - None\n",
    "    '''\n",
    "\n",
    "    for e in l:\n",
    "        if check_odd_even(e):\n",
    "            print(e, end=' ')"
   ]
  },
  {
   "cell_type": "code",
   "execution_count": 5,
   "metadata": {},
   "outputs": [
    {
     "name": "stdout",
     "output_type": "stream",
     "text": [
      "2 4 6 8 "
     ]
    }
   ],
   "source": [
    "print_even_numbers([1, 2, 3, 4, 5, 6, 7, 8, 9, -1, 25])"
   ]
  },
  {
   "cell_type": "markdown",
   "metadata": {},
   "source": [
    "[8] Write a Python program to print odd numbers in a List?"
   ]
  },
  {
   "cell_type": "code",
   "execution_count": 6,
   "metadata": {},
   "outputs": [],
   "source": [
    "from typing import List\n",
    "\n",
    "def print_odd_numbers(l: List) -> None:\n",
    "    ''' Print all the odd numbers from a list\n",
    "        Takes - l (list)\n",
    "        Return - None\n",
    "    '''\n",
    "\n",
    "    for e in l:\n",
    "        if not check_odd_even(e):\n",
    "            print(e, end=' ')"
   ]
  },
  {
   "cell_type": "code",
   "execution_count": 7,
   "metadata": {},
   "outputs": [
    {
     "name": "stdout",
     "output_type": "stream",
     "text": [
      "1 3 5 7 9 -1 25 "
     ]
    }
   ],
   "source": [
    "print_odd_numbers([1, 2, 3, 4, 5, 6, 7, 8, 9, -1, 25])"
   ]
  },
  {
   "cell_type": "markdown",
   "metadata": {},
   "source": [
    "[9] Write a Python program to Remove empty List from List?"
   ]
  },
  {
   "cell_type": "code",
   "execution_count": 4,
   "metadata": {},
   "outputs": [],
   "source": [
    "from typing import List\n",
    "\n",
    "def remove_empty_list(l: List) -> List:\n",
    "    ''' Remove an empty list from a List\n",
    "        Takes - l (List)\n",
    "        Returns - a list without empty lsit\n",
    "    '''\n",
    "    new_list = []\n",
    "\n",
    "    for element in l:\n",
    "        if len(element) == 0:\n",
    "            pass\n",
    "        else:\n",
    "            new_list.append(element)\n",
    "    \n",
    "    return new_list"
   ]
  },
  {
   "cell_type": "code",
   "execution_count": 5,
   "metadata": {},
   "outputs": [
    {
     "name": "stdout",
     "output_type": "stream",
     "text": [
      "[[12, 34], [1, 2, 3, 4, 5]]\n"
     ]
    }
   ],
   "source": [
    "print(remove_empty_list([[12, 34], [], [1, 2, 3, 4, 5]]))"
   ]
  },
  {
   "cell_type": "markdown",
   "metadata": {},
   "source": [
    "[10] Write a Python program to Cloning or Copying a list?"
   ]
  },
  {
   "cell_type": "code",
   "execution_count": 7,
   "metadata": {},
   "outputs": [],
   "source": [
    "from typing import List\n",
    "\n",
    "def copy_list(l: List) -> List:\n",
    "    ''' Copy a list\n",
    "    '''\n",
    "    new_list = list(l)\n",
    "\n",
    "    return new_list"
   ]
  },
  {
   "cell_type": "code",
   "execution_count": 8,
   "metadata": {},
   "outputs": [
    {
     "name": "stdout",
     "output_type": "stream",
     "text": [
      "[1, 2, 3, 4, 5, 6, 7, 8, 9, -1, 25]\n"
     ]
    }
   ],
   "source": [
    "print(copy_list([1, 2, 3, 4, 5, 6, 7, 8, 9, -1, 25]))"
   ]
  },
  {
   "cell_type": "markdown",
   "metadata": {},
   "source": [
    "[11] Write a Python program to Count occurrences of an element in a list?"
   ]
  },
  {
   "cell_type": "code",
   "execution_count": 9,
   "metadata": {},
   "outputs": [],
   "source": [
    "from typing import List, Any\n",
    "\n",
    "def count_element_occurance(l: List, e: Any) -> int:\n",
    "    ''' Count the occurance of an element in a list\n",
    "        Takes - l(list) and e(Any)\n",
    "        Returns - number of occurances of element e \n",
    "    '''\n",
    "\n",
    "    return l.count(e)"
   ]
  },
  {
   "cell_type": "code",
   "execution_count": 11,
   "metadata": {},
   "outputs": [
    {
     "name": "stdout",
     "output_type": "stream",
     "text": [
      "3\n"
     ]
    }
   ],
   "source": [
    "print(count_element_occurance([1, 2, 3, 4, 5, 6, 7, 8, 9, -1, 25, -1, -1], -1))"
   ]
  },
  {
   "cell_type": "code",
   "execution_count": null,
   "metadata": {},
   "outputs": [],
   "source": []
  }
 ],
 "metadata": {
  "interpreter": {
   "hash": "6a29e2dc1dff254fde9fe0adfc93793dce0eb37305baeb0bf256b822ae78c6d6"
  },
  "kernelspec": {
   "display_name": "Python 3.8.13 ('envfsds38')",
   "language": "python",
   "name": "python3"
  },
  "language_info": {
   "codemirror_mode": {
    "name": "ipython",
    "version": 3
   },
   "file_extension": ".py",
   "mimetype": "text/x-python",
   "name": "python",
   "nbconvert_exporter": "python",
   "pygments_lexer": "ipython3",
   "version": "3.8.13"
  },
  "orig_nbformat": 4
 },
 "nbformat": 4,
 "nbformat_minor": 2
}
