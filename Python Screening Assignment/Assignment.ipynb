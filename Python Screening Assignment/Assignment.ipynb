{
 "cells": [
  {
   "cell_type": "markdown",
   "metadata": {},
   "source": [
    "## Python Screening Assignment"
   ]
  },
  {
   "cell_type": "markdown",
   "metadata": {},
   "source": [
    "[1] Create a function in python to read the text file and replace specific content of the file."
   ]
  },
  {
   "cell_type": "code",
   "execution_count": 42,
   "metadata": {},
   "outputs": [],
   "source": [
    "import os\n",
    "import re\n",
    "\n",
    "def replace_file_content(file_path: str, pattern: str, replace_word: str) -> None:\n",
    "    ''' This function will read a file from the file_path and replace \n",
    "        the pattern in the file with replace_word\\n\n",
    "        --------------------------------------------------------------\\n\n",
    "        Takes: file_path (str), replace_word (str)\\n\n",
    "        Returns: None, it modifies the content of the file\n",
    "    '''\n",
    "\n",
    "    try:\n",
    "        if os.path.getsize(filename=file_path) == 0:\n",
    "            return 'The file is empty.'\n",
    "    except FileNotFoundError as fnf:\n",
    "        return fnf.strerror\n",
    "\n",
    "    lines = []\n",
    "\n",
    "    try:\n",
    "        with open(file=file_path) as file:\n",
    "            lines.append(file.read())\n",
    "    except FileNotFoundError as fnf:\n",
    "        return fnf.strerror\n",
    "\n",
    "    new_lines = []\n",
    "\n",
    "    for line in lines:\n",
    "        line = re.sub(\n",
    "            pattern=pattern,\n",
    "            repl=replace_word,\n",
    "            string=line\n",
    "        )\n",
    "        new_lines.append(line)\n",
    "    \n",
    "    try:\n",
    "        with open(file=file_path, mode='r+') as file:\n",
    "            file.writelines(new_lines)\n",
    "    except FileNotFoundError as fnf:\n",
    "        return fnf.strerror"
   ]
  },
  {
   "cell_type": "code",
   "execution_count": 43,
   "metadata": {},
   "outputs": [],
   "source": [
    "replace_file_content('example.txt', 'placement', 'screening')"
   ]
  },
  {
   "cell_type": "markdown",
   "metadata": {},
   "source": [
    "[2] Abstract class"
   ]
  },
  {
   "cell_type": "code",
   "execution_count": 1,
   "metadata": {},
   "outputs": [],
   "source": [
    "from abc import ABC, abstractmethod\n",
    "\n",
    "class Employee(ABC):\n",
    "\n",
    "    def __init__(self, f_name, l_name):\n",
    "        self.f_name = f_name\n",
    "        self.l_name = l_name\n",
    "\n",
    "    @property\n",
    "    def get_full_name(self):\n",
    "        full_name = f'{self.f_name} {self.l_name}'\n",
    "        return full_name\n",
    "\n",
    "    @abstractmethod\n",
    "    def get_salary(self):\n",
    "        pass"
   ]
  },
  {
   "cell_type": "code",
   "execution_count": 7,
   "metadata": {},
   "outputs": [],
   "source": [
    "class FullTimeEmployee(Employee):\n",
    "\n",
    "    def __init__(self, f_name, l_name, salary):\n",
    "        super().__init__(f_name, l_name)\n",
    "        self.salary = salary\n",
    "\n",
    "    def get_salary(self):\n",
    "        return self.salary"
   ]
  },
  {
   "cell_type": "code",
   "execution_count": 8,
   "metadata": {},
   "outputs": [],
   "source": [
    "class HourlyBasisEmployee(Employee):\n",
    "\n",
    "    def __init__(self, f_name, l_name, worked_hours, hourly_rate):\n",
    "        super().__init__(f_name, l_name)\n",
    "        self.worked_hours = worked_hours\n",
    "        self.hourly_rate = hourly_rate\n",
    "\n",
    "    def get_salary(self):\n",
    "        return self.hourly_rate*self.worked_hours"
   ]
  },
  {
   "cell_type": "code",
   "execution_count": 13,
   "metadata": {},
   "outputs": [],
   "source": [
    "class Salary:\n",
    "\n",
    "    def __init__(self):\n",
    "        self.employee_list = []\n",
    "\n",
    "    def add_employee(self, employee):\n",
    "        self.employee_list.append(employee)\n",
    "\n",
    "    def print(self):\n",
    "        for employee in self.employee_list:\n",
    "            print(f'Full name - {employee.get_full_name}\\tSalary - {employee.get_salary()}')"
   ]
  },
  {
   "cell_type": "code",
   "execution_count": 14,
   "metadata": {},
   "outputs": [],
   "source": [
    "salary = Salary()"
   ]
  },
  {
   "cell_type": "code",
   "execution_count": 15,
   "metadata": {},
   "outputs": [],
   "source": [
    "salary.add_employee(FullTimeEmployee('Raj', 'Kapadia', 200000))\n",
    "salary.add_employee(HourlyBasisEmployee('Raj', 'Kapadia', 20, 2500))"
   ]
  },
  {
   "cell_type": "code",
   "execution_count": 16,
   "metadata": {},
   "outputs": [
    {
     "name": "stdout",
     "output_type": "stream",
     "text": [
      "Full name - Raj Kapadia\tSalary - 200000\n",
      "Full name - Raj Kapadia\tSalary - 50000\n"
     ]
    }
   ],
   "source": [
    "salary.print()"
   ]
  },
  {
   "cell_type": "markdown",
   "metadata": {},
   "source": [
    "[3] Multiple inheritance"
   ]
  },
  {
   "cell_type": "code",
   "execution_count": 19,
   "metadata": {},
   "outputs": [],
   "source": [
    "class W:\n",
    "    pass\n",
    "\n",
    "class X:\n",
    "    pass\n",
    "\n",
    "\n",
    "class Y:\n",
    "    pass\n",
    "\n",
    "\n",
    "class Z:\n",
    "    pass\n",
    "\n",
    "\n",
    "class A(W, X):\n",
    "    pass\n",
    "\n",
    "\n",
    "class B(Y, Z):\n",
    "    pass"
   ]
  },
  {
   "cell_type": "code",
   "execution_count": 20,
   "metadata": {},
   "outputs": [
    {
     "name": "stdout",
     "output_type": "stream",
     "text": [
      "[<class '__main__.M'>, <class '__main__.B'>, <class '__main__.Y'>, <class '__main__.Z'>, <class '__main__.A'>, <class '__main__.W'>, <class '__main__.X'>, <class 'object'>]\n"
     ]
    }
   ],
   "source": [
    "class M(B, A):\n",
    "    pass\n",
    "\n",
    "# MRO - Method Resolution Order\n",
    "print(M.mro())"
   ]
  },
  {
   "cell_type": "code",
   "execution_count": 21,
   "metadata": {},
   "outputs": [
    {
     "name": "stdout",
     "output_type": "stream",
     "text": [
      "[<class '__main__.N'>, <class '__main__.A'>, <class '__main__.W'>, <class '__main__.X'>, <class '__main__.B'>, <class '__main__.Y'>, <class '__main__.Z'>, <class 'object'>]\n"
     ]
    }
   ],
   "source": [
    "class N(A, B):\n",
    "    pass\n",
    "\n",
    "# MRO - Method Resolution Order\n",
    "print(N.mro())"
   ]
  },
  {
   "cell_type": "markdown",
   "metadata": {},
   "source": [
    "[4] Decorators"
   ]
  },
  {
   "cell_type": "code",
   "execution_count": 25,
   "metadata": {},
   "outputs": [],
   "source": [
    "def divide_smartly(func):\n",
    "    \n",
    "    def inner_function(a, b):\n",
    "        print(f'I am going to divide {a} with {b}.')\n",
    "        if b == 0:\n",
    "            print(f'Whoops! can not divide {a} with 0.')\n",
    "            return\n",
    "        else:\n",
    "            return func(a, b)\n",
    "\n",
    "    return inner_function\n",
    "\n",
    "\n",
    "@divide_smartly\n",
    "def divide(a, b):\n",
    "    print(a/b)"
   ]
  },
  {
   "cell_type": "code",
   "execution_count": 26,
   "metadata": {},
   "outputs": [
    {
     "name": "stdout",
     "output_type": "stream",
     "text": [
      "I am going to divide 25 with 5.\n",
      "5.0\n"
     ]
    }
   ],
   "source": [
    "divide(25, 5)"
   ]
  },
  {
   "cell_type": "code",
   "execution_count": 27,
   "metadata": {},
   "outputs": [
    {
     "name": "stdout",
     "output_type": "stream",
     "text": [
      "I am going to divide 25 with 0.\n",
      "Whoops! can not divide 25 with 0.\n"
     ]
    }
   ],
   "source": [
    "divide(25, 0)"
   ]
  },
  {
   "cell_type": "code",
   "execution_count": null,
   "metadata": {},
   "outputs": [],
   "source": []
  }
 ],
 "metadata": {
  "interpreter": {
   "hash": "6a29e2dc1dff254fde9fe0adfc93793dce0eb37305baeb0bf256b822ae78c6d6"
  },
  "kernelspec": {
   "display_name": "Python 3.8.13 ('envfsds38')",
   "language": "python",
   "name": "python3"
  },
  "language_info": {
   "codemirror_mode": {
    "name": "ipython",
    "version": 3
   },
   "file_extension": ".py",
   "mimetype": "text/x-python",
   "name": "python",
   "nbconvert_exporter": "python",
   "pygments_lexer": "ipython3",
   "version": "3.8.13"
  },
  "orig_nbformat": 4
 },
 "nbformat": 4,
 "nbformat_minor": 2
}
