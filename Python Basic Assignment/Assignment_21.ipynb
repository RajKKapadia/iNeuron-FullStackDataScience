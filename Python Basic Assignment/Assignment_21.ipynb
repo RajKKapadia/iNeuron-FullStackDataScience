{
 "cells": [
  {
   "cell_type": "markdown",
   "metadata": {},
   "source": [
    "[1] Add the current date to the text file today.txt as a string."
   ]
  },
  {
   "cell_type": "code",
   "execution_count": 3,
   "metadata": {},
   "outputs": [],
   "source": [
    "from datetime import datetime\n",
    "date = datetime.now()\n",
    "\n",
    "with open('today.txt', 'w') as file:\n",
    "    file.write(f'{date}')"
   ]
  },
  {
   "cell_type": "markdown",
   "metadata": {},
   "source": [
    "[2] Read the text file today.txt into the string today_string."
   ]
  },
  {
   "cell_type": "code",
   "execution_count": 4,
   "metadata": {},
   "outputs": [
    {
     "name": "stdout",
     "output_type": "stream",
     "text": [
      "2022-05-05 12:05:00.297734\n"
     ]
    }
   ],
   "source": [
    "with open('today.txt', 'r') as file:\n",
    "    today_string = file.read()\n",
    "print(today_string)"
   ]
  },
  {
   "cell_type": "code",
   "execution_count": 5,
   "metadata": {},
   "outputs": [
    {
     "name": "stdout",
     "output_type": "stream",
     "text": [
      "2022-05-05 12:05:00.297734\n"
     ]
    }
   ],
   "source": [
    "today_date = datetime.fromisoformat(today_string)\n",
    "print(today_date)"
   ]
  },
  {
   "cell_type": "markdown",
   "metadata": {},
   "source": [
    "[4] List the files in your current directory."
   ]
  },
  {
   "cell_type": "code",
   "execution_count": 7,
   "metadata": {},
   "outputs": [
    {
     "name": "stdout",
     "output_type": "stream",
     "text": [
      "['Assignment_3.docx', 'zoo.py', 'Assignment_20.ipynb', 'Assignment_19.ipynb', 'Assignment_12.docx', 'Assignment_10.docx', 'Assignment_9.docx', 'Assignment_11.docx', 'Assignment_17.ipynb', 'Assignment_4.docx', 'Assignment_14.docx', 'books.db', 'Assignment_16.ipynb', 'Assignment_2.docx', 'test.txt', 'Assignment_8.docx', 'Assignment_15.ipynb', 'Assignment_21.ipynb', 'Assignment_1.docx', 'Assignment_5.docx', 'Assignment_18.ipynb', 'Assignment_13.docx', 'Assignment_7.docx', 'today.txt', 'books.csv', 'Assignment_6.docx']\n"
     ]
    }
   ],
   "source": [
    "import os\n",
    "print(os.listdir())"
   ]
  },
  {
   "cell_type": "markdown",
   "metadata": {},
   "source": [
    "[5] Create a list of all of the files in your parent directory (minimum five files should be available)."
   ]
  },
  {
   "cell_type": "code",
   "execution_count": 16,
   "metadata": {},
   "outputs": [
    {
     "name": "stdout",
     "output_type": "stream",
     "text": [
      "['three.py', 'six.py', 'five.py', 'two.py', 'one.py', 'four.py']\n"
     ]
    }
   ],
   "source": [
    "l = os.listdir('/home/raj/Desktop/Fullstack_Data_Science/Assignments/Python Programming Basic Assignment/Assignment_Four')\n",
    "print(l)"
   ]
  },
  {
   "cell_type": "markdown",
   "metadata": {},
   "source": [
    "[6] Use multiprocessing to create three separate processes. Make each one wait a random number of\n",
    "seconds between one and five, print the current time, and then exit."
   ]
  },
  {
   "cell_type": "code",
   "execution_count": 20,
   "metadata": {},
   "outputs": [],
   "source": [
    "import multiprocessing\n",
    "import random\n",
    "import time\n",
    "\n",
    "def do_something():\n",
    "    sleep = random.randint(a=1, b=5)\n",
    "    time.sleep(sleep)\n",
    "\n",
    "p1 = multiprocessing.Process(target=do_something)\n",
    "p2 = multiprocessing.Process(target=do_something)\n",
    "p3 = multiprocessing.Process(target=do_something)\n",
    "\n",
    "p1.start()\n",
    "p2.start()\n",
    "p3.start()\n",
    "\n",
    "p1.join()\n",
    "p2.join()\n",
    "p3.join()"
   ]
  },
  {
   "cell_type": "markdown",
   "metadata": {},
   "source": [
    "[7] Create a date object of your day of birth."
   ]
  },
  {
   "cell_type": "code",
   "execution_count": 22,
   "metadata": {},
   "outputs": [
    {
     "name": "stdout",
     "output_type": "stream",
     "text": [
      "1984-05-14 00:00:00\n"
     ]
    }
   ],
   "source": [
    "dob = datetime.strptime('14/05/1984','%d/%m/%Y')\n",
    "print(dob)"
   ]
  },
  {
   "cell_type": "markdown",
   "metadata": {},
   "source": [
    "[8] What day of the week was your day of birth?"
   ]
  },
  {
   "cell_type": "code",
   "execution_count": 24,
   "metadata": {},
   "outputs": [
    {
     "name": "stdout",
     "output_type": "stream",
     "text": [
      "1984-05-14 00:00:00\n",
      "Monday\n"
     ]
    }
   ],
   "source": [
    "print(dob)\n",
    "print(dob.strftime('%A'))"
   ]
  },
  {
   "cell_type": "markdown",
   "metadata": {},
   "source": [
    "[9] When will you be (or when were you) 10,000 days old?"
   ]
  },
  {
   "cell_type": "code",
   "execution_count": 25,
   "metadata": {},
   "outputs": [
    {
     "name": "stdout",
     "output_type": "stream",
     "text": [
      "1987-02-08 00:00:00\n"
     ]
    }
   ],
   "source": [
    "from datetime import timedelta\n",
    "\n",
    "future = dob + timedelta(days=1000)\n",
    "print(future)"
   ]
  },
  {
   "cell_type": "code",
   "execution_count": null,
   "metadata": {},
   "outputs": [],
   "source": []
  }
 ],
 "metadata": {
  "interpreter": {
   "hash": "91ff3fa3df200fd57177281df4749b911f5f1bea518afeedd5e9abc3371936e3"
  },
  "kernelspec": {
   "display_name": "Python 3.8.3 ('base')",
   "language": "python",
   "name": "python3"
  },
  "language_info": {
   "codemirror_mode": {
    "name": "ipython",
    "version": 3
   },
   "file_extension": ".py",
   "mimetype": "text/x-python",
   "name": "python",
   "nbconvert_exporter": "python",
   "pygments_lexer": "ipython3",
   "version": "3.8.3"
  },
  "orig_nbformat": 4
 },
 "nbformat": 4,
 "nbformat_minor": 2
}
